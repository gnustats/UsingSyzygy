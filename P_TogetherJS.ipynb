{
 "cells": [
  {
   "cell_type": "markdown",
   "metadata": {},
   "source": [
    "# Together JS\n",
    "\n",
    "For security reasons, the Jupyter Notebooks remove most calls to Javascript, so that no one can run malicious code behind your back. It is easy to bypass this. Simply use the Notebook to create and write an html file with the Javascript calls inside, then run that file trhough the IPython display. \n",
    "\n",
    "Here is a simple example, that makes use of the \"TogetherJS\" tool from Mozilla. You can read more about the TogetherJS tools here:\n",
    "https://togetherjs.com/"
   ]
  },
  {
   "cell_type": "code",
   "execution_count": 1,
   "metadata": {
    "collapsed": false
   },
   "outputs": [
    {
     "name": "stdout",
     "output_type": "stream",
     "text": [
      "Writing together2.html\n"
     ]
    }
   ],
   "source": [
    "%%writefile together2.html\n",
    "<!DOCTYPE html>\n",
    "<html>\n",
    "  <meta http-equiv=\"Content-Type\" content=\"text/html;charset=utf-8\"/>\n",
    "\n",
    "  <body>\n",
    "\n",
    "<p>Click to draw. Click on the buttons to change colours, erase, resize, or clear. </p>\n",
    "<p>Click \"Get Together\" to begin collaborating with others!</p>\n",
    "\n",
    "<iframe width=\"100%\" height=\"500\" src=\"//jsfiddle.net/5f8FL/1/embedded/result/\" allowfullscreen=\"allowfullscreen\" frameborder=\"0\"></iframe>\n",
    "\n",
    "\n",
    "  </body>\n",
    "</html>"
   ]
  },
  {
   "cell_type": "code",
   "execution_count": 2,
   "metadata": {
    "collapsed": true
   },
   "outputs": [],
   "source": [
    "from IPython.display import IFrame\n",
    "import re"
   ]
  },
  {
   "cell_type": "code",
   "execution_count": 3,
   "metadata": {
    "collapsed": false
   },
   "outputs": [
    {
     "data": {
      "text/html": [
       "\n",
       "        <iframe\n",
       "            width=\"800\"\n",
       "            height=\"500\"\n",
       "            src=\"files/together2.html\"\n",
       "            frameborder=\"0\"\n",
       "            allowfullscreen\n",
       "        ></iframe>\n",
       "        "
      ],
      "text/plain": [
       "<IPython.lib.display.IFrame at 0x7f443454de80>"
      ]
     },
     "execution_count": 3,
     "metadata": {},
     "output_type": "execute_result"
    }
   ],
   "source": [
    "IFrame('files/together2.html',800,500)"
   ]
  },
  {
   "cell_type": "code",
   "execution_count": null,
   "metadata": {
    "collapsed": true
   },
   "outputs": [],
   "source": []
  },
  {
   "cell_type": "code",
   "execution_count": null,
   "metadata": {
    "collapsed": true
   },
   "outputs": [],
   "source": []
  }
 ],
 "metadata": {
  "kernelspec": {
   "display_name": "Python 3",
   "language": "python",
   "name": "python3"
  },
  "language_info": {
   "codemirror_mode": {
    "name": "ipython",
    "version": 3
   },
   "file_extension": ".py",
   "mimetype": "text/x-python",
   "name": "python",
   "nbconvert_exporter": "python",
   "pygments_lexer": "ipython3",
   "version": "3.5.2"
  }
 },
 "nbformat": 4,
 "nbformat_minor": 1
}
