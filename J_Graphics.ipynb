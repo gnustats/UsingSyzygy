{
 "cells": [
  {
   "cell_type": "markdown",
   "metadata": {},
   "source": [
    "# High resolution graphics into files"
   ]
  },
  {
   "cell_type": "markdown",
   "metadata": {},
   "source": [
    "Very often we need to create some high resolution graphics in a computing environment and then export it in a file, to use within some other application. For instance, a book may need a high quality diagram that is best created by some algorithm.\n",
    "\n",
    "This section demonstrates a simple technique to do this.\n",
    "\n",
    "The basic idea is to create a Scalable Vector Graphics file (of type .svg) and fill is with text commands that indicate what to draw for the graphics image. You can read more details of all that can be draw here: https://en.wikipedia.org/wiki/Scalable_Vector_Graphics\n",
    "\n",
    "WARNING: images displayed are often \"cached\" by your browser (Firefox, Chrome, Safari, etc), which means the file is pre-loaded for convenience. However, if your Jupyter code changes the .svg file, the browser does not know to re-draw the new image. One way to force it to draw the new image is to re-load the page. (Remember to save first.)\n",
    "\n",
    "## Example 1 - two lines\n",
    "\n",
    "In this example, we will simply draw a couple of lines. The file will have four entries of simple text. The first entry marks the  file as an svg file, the last entry indicates the end of the svg file. Two entries in the middle draw two lines. The text will look like this: \n",
    "```\n",
    "<svg xmlns='http://www.w3.org/2000/svg' version='1.1' width='100%' height='100%' viewBox='-1  -1 2 2'>\n",
    "<line x1='-1' y1='1'  x2='1' y2='-1' stroke='black' stroke-width='.01' />\n",
    "<line x1='-1' y1='-1' x2='1' y2='1' stroke='red' stroke-width='.01' />\n",
    "</svg>\n",
    "```\n",
    "\n",
    "We use the \"open\" command in Julia to open a file, and write into it with the \"write command.\" Note we use a \"do\" look to ensure that the file is closed once the writing is all done. "
   ]
  },
  {
   "cell_type": "code",
   "execution_count": 1,
   "metadata": {
    "collapsed": false
   },
   "outputs": [
    {
     "data": {
      "text/plain": [
       "6"
      ]
     },
     "execution_count": 1,
     "metadata": {},
     "output_type": "execute_result"
    }
   ],
   "source": [
    "open(\"simplegraphics.svg\",\"w\") do f\n",
    "    write(f,\"<svg xmlns='http://www.w3.org/2000/svg' version='1.1' width='100%' height='100%' viewBox='-1  -1 2 2'> \\n\")\n",
    "    write(f,\"<line x1='-1' y1='1'  x2='1' y2='-1' stroke='black' stroke-width='.01' /> \\n\")\n",
    "    write(f,\"<line x1='-1' y1='-1' x2='1' y2='1' stroke='red' stroke-width='.01' /> \\n\")\n",
    "    write(f,\"</svg>\")\n",
    "end\n",
    "\n"
   ]
  },
  {
   "cell_type": "markdown",
   "metadata": {},
   "source": [
    "To display the file, we use either of these two Markdown commands:\n",
    "```\n",
    "![The Simple Graphics](simplegraphics.svg)\n",
    "<img src=\"simplegraphics.svg\" width=\"500\" height=\"500\">\n",
    "```\n",
    "The second choice gives you a bit more control over the size of the output. "
   ]
  },
  {
   "cell_type": "markdown",
   "metadata": {},
   "source": [
    "![The Simple Graphics](simplegraphics.svg)"
   ]
  },
  {
   "cell_type": "markdown",
   "metadata": {},
   "source": [
    "<img src=\"simplegraphics.svg\" width=\"500\" height=\"500\">"
   ]
  },
  {
   "cell_type": "markdown",
   "metadata": {},
   "source": [
    "## Example 2 - a star is born\n",
    "\n",
    "Here is a slightly more interesting example. We draw a five-pointed star by connecting lines across 5 evenly spaced points on a circle. This is probably more fun to do algorithmically like this, rather than trying to do a freehand drawing of a star. "
   ]
  },
  {
   "cell_type": "code",
   "execution_count": 2,
   "metadata": {
    "collapsed": false
   },
   "outputs": [
    {
     "data": {
      "text/plain": [
       "6"
      ]
     },
     "execution_count": 2,
     "metadata": {},
     "output_type": "execute_result"
    }
   ],
   "source": [
    "open(\"star.svg\", \"w\") do f\n",
    "    write(f,\"<svg xmlns='http://www.w3.org/2000/svg' version='1.1' width='100%' height='100%' viewBox='-1  -1 2 2'> \\n\")\n",
    "    for i in 1:5\n",
    "        x1 = sin(i*2*pi/5)\n",
    "        y1 = -cos(i*2*pi/5)\n",
    "        x2 = sin((i+2)*2*pi/5)\n",
    "        y2 = -cos((i+2)*2*pi/5)\n",
    "        write(f,\"<line x1='$x1' y1='$y1'  x2='$x2' y2='$y2' stroke='black' stroke-width='.01' /> \\n\")\n",
    "    end\n",
    "    write(f,\"</svg>\")\n",
    "end"
   ]
  },
  {
   "cell_type": "markdown",
   "metadata": {
    "collapsed": true
   },
   "source": [
    "<img src=\"star.svg\" width=\"200\" height=\"200\">"
   ]
  },
  {
   "cell_type": "markdown",
   "metadata": {
    "collapsed": true
   },
   "source": [
    "## Example 3 -  Mathieu Spectra\n",
    "\n",
    "We construct spectra for the almost Mathieu operator, also known as the Hofstadter Butterfly. https://en.wikipedia.org/wiki/Hofstadter's_butterfly\n",
    "\n",
    "Personnally, I've done this before using MATLAB, taking a lot of care to make it fast. Here in Julia, it seems to be fast even without any special tricks. In particular, I leave the matrices U,V, in their natural form, and compute directly in their full matrix form.\n",
    "\n",
    "This code creates a file mathieu.svg which can be opened directly in Jupyter Hub using the browser. In fact, the image opened separately looks better than the display here. \n"
   ]
  },
  {
   "cell_type": "markdown",
   "metadata": {},
   "source": [
    "### The Math\n",
    "\n",
    "The almost Mathieu operator describes the energy levels of an electron moving in a periodic crystal (2D), under the influence of a magnetic fields. This causes only certain energy levels to be allowed, depending on a parameter\n",
    "$$\\mu = e^{2\\pi i \\theta}.$$\n",
    "We take two universal unitaries $u,v$ which satisfy a commutation relation\n",
    "$$ vu = \\mu uv.$$\n",
    "The related energy operator (almost Mathieu operator) is the linear, self adjoint operator\n",
    "$$h = u + u^* + v + v^*.$$\n",
    "\n",
    "The curious thing is that the spectrum of $h$ is either a union of intervals, or a Cantor set, depending on whether $\\theta$ is rational or irrational. Which seems odd in physics, that a tiny perturbation in one parameter should give such a fundamental change in the nature of the spectra. \n",
    "\n",
    "In the case where $\\theta = p/q$ is rational, we can compute the spectrum exactly.\n",
    "\n",
    "We define here two unitaries $U$ and $V$ that are $q\\times q$ matrices. $U$ is a diagonal matrix, which $V$ is a permutation matrix. They satisfy the fundamental intertwining identity\n",
    "$$ VU = e^{2\\pi i \\theta} UV, \\mbox{ where } \\theta = p/q.$$\n",
    "\n",
    "Replacing $U,V$ by a scalar multiple $z_1U, z_2V$ will satisfy the same commutation constraint. Setting $z_1 = z_2 = 1$ gives one extreme set of spectral points, that form one-half of the interval endpoints that make up the spectrum. Setting $z_1 = z_2 = e^{2\\pi i/q}$ gives the other extreme set, forming the other set of endpoints. \n",
    "\n",
    "### The code\n",
    "\n",
    "The matrix $H$ defined below is the self adjoint sum of these unitaries, and $L$ has constants thrown in to get the other extreme points of the spectra. \n",
    "\n",
    "We compute the eigenvalues, then throw them into a file that plots all the lines. "
   ]
  },
  {
   "cell_type": "code",
   "execution_count": 3,
   "metadata": {
    "collapsed": false
   },
   "outputs": [
    {
     "data": {
      "text/plain": [
       "eigL (generic function with 1 method)"
      ]
     },
     "execution_count": 3,
     "metadata": {},
     "output_type": "execute_result"
    }
   ],
   "source": [
    "U(p,q) = diagm(exp(2*pi*1im*(1:q)*p/q))\n",
    "V(p,q) = circshift(eye(q),(0,1))\n",
    "H(p,q) = U(p,q)+U(p,q)' + V(p,q)+V(p,q)'\n",
    "L(p,q) = exp(pi*1im/q)*U(p,q)+exp(-pi*1im/q)U(p,q)' + exp(pi*1im/q)*V(p,q)+exp(-pi*1im/q)*V(p,q)'\n",
    "eigH(p,q) = eig(H(p,q))[1]\n",
    "eigL(p,q) = eig(L(p,q))[1]"
   ]
  },
  {
   "cell_type": "code",
   "execution_count": 4,
   "metadata": {
    "collapsed": false
   },
   "outputs": [
    {
     "data": {
      "text/plain": [
       "printaline (generic function with 1 method)"
      ]
     },
     "execution_count": 4,
     "metadata": {},
     "output_type": "execute_result"
    }
   ],
   "source": [
    "function printaline(f,xone,xtwo,y)\n",
    "    y8 = y*8\n",
    "    print(f,\"<line x1='$xone' y1='$y8' x2='$xtwo' y2='$y8' stroke='black' stroke-width='.01' /> \\n\")\n",
    "end"
   ]
  },
  {
   "cell_type": "code",
   "execution_count": 5,
   "metadata": {
    "collapsed": true
   },
   "outputs": [],
   "source": [
    "f = open(\"mathieu.svg\",\"w\")\n",
    "print(f,\"<svg xmlns='http://www.w3.org/2000/svg' version='1.1' width='100%' height='100%' viewBox='-4  0 8 8'> \\n\")\n",
    "printaline(f,-4,4,0)\n",
    "printaline(f,-4,4,1)\n",
    "for q=2:50\n",
    "    for p= 1:(q-1)\n",
    "        if gcd(p,q)==1\n",
    "            eig1 = eigH(p,q)\n",
    "            eig2 = eigL(p,q)\n",
    "            for k=1:q\n",
    "                printaline(f,eig1[k],eig2[k],p/q)\n",
    "            end\n",
    "        end\n",
    "    end\n",
    "end\n",
    "# let's put in an extra line at the bottom, so we can see everything\n",
    "#printaline(f,-4,4,2)\n",
    "print(f,\"</svg> \\n\")\n",
    "close(f)"
   ]
  },
  {
   "cell_type": "markdown",
   "metadata": {},
   "source": [
    "We now display the spectra using the image command in Markdown language.\n",
    "```\n",
    "<img src=\"mathieu.svg\" width=\"600\" height=\"600\">\n",
    "```"
   ]
  },
  {
   "cell_type": "markdown",
   "metadata": {},
   "source": [
    "<img src=\"mathieu.svg\" width=\"600\" height=\"600\">"
   ]
  }
 ],
 "metadata": {
  "kernelspec": {
   "display_name": "Julia 0.4.7",
   "language": "julia",
   "name": "julia-0.4"
  },
  "language_info": {
   "file_extension": ".jl",
   "mimetype": "application/julia",
   "name": "julia",
   "version": "0.4.7"
  }
 },
 "nbformat": 4,
 "nbformat_minor": 1
}
